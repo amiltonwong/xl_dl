{
 "cells": [
  {
   "cell_type": "code",
   "execution_count": 1,
   "metadata": {},
   "outputs": [
    {
     "data": {
      "text/plain": [
       "0"
      ]
     },
     "execution_count": 1,
     "metadata": {},
     "output_type": "execute_result"
    }
   ],
   "source": [
    "import os\n",
    "# specify which GPU to use\n",
    "# And also limit which GPU consumes memory (especially for tensorflow use)\n",
    "os.environ['CUDA_VISIBLE_DEVICES']='1'\n",
    "os.system('echo $CUDA_VISIBLE_DEVICES')"
   ]
  },
  {
   "cell_type": "code",
   "execution_count": 2,
   "metadata": {},
   "outputs": [
    {
     "name": "stderr",
     "output_type": "stream",
     "text": [
      "/root/anaconda3/envs/tf1.2_gpu/lib/python3.6/site-packages/h5py/__init__.py:36: FutureWarning: Conversion of the second argument of issubdtype from `float` to `np.floating` is deprecated. In future, it will be treated as `np.float64 == np.dtype(float).type`.\n",
      "  from ._conv import register_converters as _register_converters\n",
      "Using TensorFlow backend.\n"
     ]
    }
   ],
   "source": [
    "import tensorflow as tf\n",
    "from keras.backend.tensorflow_backend import set_session"
   ]
  },
  {
   "cell_type": "code",
   "execution_count": 4,
   "metadata": {},
   "outputs": [],
   "source": [
    "config = tf.ConfigProto()\n",
    "# set tensorflow not consume all memory, dynamically allocate memory \n",
    "config.gpu_options.allow_growth = True\n",
    "set_session(tf.Session(config=config))"
   ]
  },
  {
   "cell_type": "code",
   "execution_count": 5,
   "metadata": {},
   "outputs": [],
   "source": [
    "from keras.models import Model\n",
    "from keras.layers import Input, Conv3D, MaxPool3D, Flatten, Dense, Dropout"
   ]
  },
  {
   "cell_type": "markdown",
   "metadata": {},
   "source": [
    "Build the following model:\n",
    "<img src=\"./3D_CNN.jpg\">"
   ]
  },
  {
   "cell_type": "code",
   "execution_count": 13,
   "metadata": {},
   "outputs": [],
   "source": [
    "# define input\n",
    "input_video = Input(shape=(224,224,16,3)) # input 16 frames, each frame has 3 channels"
   ]
  },
  {
   "cell_type": "code",
   "execution_count": null,
   "metadata": {},
   "outputs": [],
   "source": [
    "# use 3x3x3 kernel, # use funtional api "
   ]
  },
  {
   "cell_type": "code",
   "execution_count": 16,
   "metadata": {},
   "outputs": [],
   "source": [
    "# 1st layer convolutional layer\n",
    "x = Conv3D(filters=64, kernel_size=(3,3,3), padding='same', activation='relu')(input_video)\n",
    "# pooling\n",
    "x = MaxPool3D(pool_size=(2,2,1))(x) # at the first pooling , temporal dimension no compressed\n",
    "# 2nd layer convolutional layer\n",
    "x = Conv3D(filters=128, kernel_size=(3,3,3), padding='same', activation='relu')(x)\n",
    "# pooling\n",
    "x = MaxPool3D(pool_size=(2,2,2))(x) # start from 2nd pooling , temporal dimension compressed\n",
    "\n",
    "# 3rd layer convolutional layer (use double conv, to obtain stronger non-linear capability)\n",
    "x = Conv3D(filters=256, kernel_size=(3,3,3), padding='same', activation='relu')(x)\n",
    "x = Conv3D(filters=256, kernel_size=(3,3,3), padding='same', activation='relu')(x)\n",
    "# pooling\n",
    "x = MaxPool3D(pool_size=(2,2,2))(x) # temporal dimension compressed\n",
    "\n",
    "# 4th layer convolutional layer (use double conv, to obtain stronger non-linear capability)\n",
    "x = Conv3D(filters=512, kernel_size=(3,3,3), padding='same', activation='relu')(x)\n",
    "x = Conv3D(filters=512, kernel_size=(3,3,3), padding='same', activation='relu')(x)\n",
    "# pooling\n",
    "x = MaxPool3D(pool_size=(2,2,2))(x) # temporal dimension compressed\n",
    "\n",
    "# 5th layer convolutional layer (use double conv, to obtain stronger non-linear capability)\n",
    "x = Conv3D(filters=512, kernel_size=(3,3,3), padding='same', activation='relu')(x)\n",
    "x = Conv3D(filters=512, kernel_size=(3,3,3), padding='same', activation='relu')(x)\n",
    "# pooling\n",
    "x = MaxPool3D(pool_size=(2,2,2))(x) # temporal dimension compressed\n",
    "\n",
    "# flatten to be one-dim vector\n",
    "x = Flatten()(x)"
   ]
  },
  {
   "cell_type": "code",
   "execution_count": 17,
   "metadata": {},
   "outputs": [],
   "source": [
    "# fully-connected layer fc6\n",
    "x = Dense(units=4096, activation='relu')(x)\n",
    "# dropout\n",
    "x = Dropout(0.5)(x)\n",
    "# fully-connected layer fc7\n",
    "x = Dense(units=4096, activation='relu')(x)\n",
    "# dropout\n",
    "x = Dropout(0.5)(x)\n",
    "# build a softmax (prob.), use y as output\n",
    "y = Dense(10, activation='softmax')(x)\n",
    "# FINISH the layers definition"
   ]
  },
  {
   "cell_type": "code",
   "execution_count": 18,
   "metadata": {},
   "outputs": [],
   "source": [
    "# Define model (connect input & output)\n",
    "model = Model(input_video, y)"
   ]
  },
  {
   "cell_type": "code",
   "execution_count": 19,
   "metadata": {},
   "outputs": [
    {
     "name": "stdout",
     "output_type": "stream",
     "text": [
      "_________________________________________________________________\n",
      "Layer (type)                 Output Shape              Param #   \n",
      "=================================================================\n",
      "input_2 (InputLayer)         (None, 224, 224, 16, 3)   0         \n",
      "_________________________________________________________________\n",
      "conv3d_17 (Conv3D)           (None, 224, 224, 16, 64)  5248      \n",
      "_________________________________________________________________\n",
      "max_pooling3d_11 (MaxPooling (None, 112, 112, 16, 64)  0         \n",
      "_________________________________________________________________\n",
      "conv3d_18 (Conv3D)           (None, 112, 112, 16, 128) 221312    \n",
      "_________________________________________________________________\n",
      "max_pooling3d_12 (MaxPooling (None, 56, 56, 8, 128)    0         \n",
      "_________________________________________________________________\n",
      "conv3d_19 (Conv3D)           (None, 56, 56, 8, 256)    884992    \n",
      "_________________________________________________________________\n",
      "conv3d_20 (Conv3D)           (None, 56, 56, 8, 256)    1769728   \n",
      "_________________________________________________________________\n",
      "max_pooling3d_13 (MaxPooling (None, 28, 28, 4, 256)    0         \n",
      "_________________________________________________________________\n",
      "conv3d_21 (Conv3D)           (None, 28, 28, 4, 512)    3539456   \n",
      "_________________________________________________________________\n",
      "conv3d_22 (Conv3D)           (None, 28, 28, 4, 512)    7078400   \n",
      "_________________________________________________________________\n",
      "max_pooling3d_14 (MaxPooling (None, 14, 14, 2, 512)    0         \n",
      "_________________________________________________________________\n",
      "conv3d_23 (Conv3D)           (None, 14, 14, 2, 512)    7078400   \n",
      "_________________________________________________________________\n",
      "conv3d_24 (Conv3D)           (None, 14, 14, 2, 512)    7078400   \n",
      "_________________________________________________________________\n",
      "max_pooling3d_15 (MaxPooling (None, 7, 7, 1, 512)      0         \n",
      "_________________________________________________________________\n",
      "flatten_1 (Flatten)          (None, 25088)             0         \n",
      "_________________________________________________________________\n",
      "dense_7 (Dense)              (None, 4096)              102764544 \n",
      "_________________________________________________________________\n",
      "dropout_5 (Dropout)          (None, 4096)              0         \n",
      "_________________________________________________________________\n",
      "dense_8 (Dense)              (None, 4096)              16781312  \n",
      "_________________________________________________________________\n",
      "dropout_6 (Dropout)          (None, 4096)              0         \n",
      "_________________________________________________________________\n",
      "dense_9 (Dense)              (None, 10)                40970     \n",
      "=================================================================\n",
      "Total params: 147,242,762\n",
      "Trainable params: 147,242,762\n",
      "Non-trainable params: 0\n",
      "_________________________________________________________________\n"
     ]
    }
   ],
   "source": [
    "model.summary()"
   ]
  },
  {
   "cell_type": "code",
   "execution_count": 30,
   "metadata": {},
   "outputs": [],
   "source": [
    "# 先讓network model跑起來, use random array to substitude as input\n",
    "import numpy as np\n",
    "# create 100 samples (each one is 224x224x16x3 dim)\n",
    "x_train= np.random.random(size=(100, 224, 224, 16, 3))\n",
    "# create labels, 10 classes\n",
    "# construct a 100 randint array\n",
    "y_train = np.asarray([np.random.randint(0,10) for i in range(100)])\n",
    "# labels need to be one-hot form\n",
    "from keras.utils import to_categorical\n",
    "y_train = to_categorical(y_train,10) # num_classes=10"
   ]
  },
  {
   "cell_type": "code",
   "execution_count": 25,
   "metadata": {},
   "outputs": [
    {
     "data": {
      "text/plain": [
       "[5, 2, 3, 7, 8, 4, 6, 8, 3, 3]"
      ]
     },
     "execution_count": 25,
     "metadata": {},
     "output_type": "execute_result"
    }
   ],
   "source": [
    "#[np.random.randint(0,10) for i in range(10)]"
   ]
  },
  {
   "cell_type": "code",
   "execution_count": 32,
   "metadata": {},
   "outputs": [],
   "source": [
    "# Before runing the model, we have to compile it.\n",
    "model.compile(optimizer='sgd', loss='categorical_crossentropy', metrics=['accuracy'])"
   ]
  },
  {
   "cell_type": "code",
   "execution_count": 33,
   "metadata": {},
   "outputs": [
    {
     "name": "stdout",
     "output_type": "stream",
     "text": [
      "Train on 90 samples, validate on 10 samples\n",
      "Epoch 1/10\n",
      "90/90 [==============================] - 49s - loss: 2.3121 - acc: 0.0667 - val_loss: 2.2928 - val_acc: 0.1000\n",
      "Epoch 2/10\n",
      "90/90 [==============================] - 40s - loss: 2.3033 - acc: 0.0556 - val_loss: 2.2877 - val_acc: 0.1000\n",
      "Epoch 3/10\n",
      "90/90 [==============================] - 40s - loss: 2.3019 - acc: 0.1222 - val_loss: 2.2823 - val_acc: 0.3000\n",
      "Epoch 4/10\n",
      "90/90 [==============================] - 40s - loss: 2.2879 - acc: 0.1000 - val_loss: 2.2755 - val_acc: 0.1000\n",
      "Epoch 5/10\n",
      "90/90 [==============================] - 40s - loss: 2.2953 - acc: 0.0778 - val_loss: 2.2689 - val_acc: 0.3000\n",
      "Epoch 6/10\n",
      "90/90 [==============================] - 40s - loss: 2.2892 - acc: 0.1333 - val_loss: 2.2640 - val_acc: 0.3000\n",
      "Epoch 7/10\n",
      "90/90 [==============================] - 40s - loss: 2.2848 - acc: 0.1000 - val_loss: 2.2487 - val_acc: 0.3000\n",
      "Epoch 8/10\n",
      "90/90 [==============================] - 40s - loss: 2.2879 - acc: 0.1444 - val_loss: 2.2611 - val_acc: 0.3000\n",
      "Epoch 9/10\n",
      "90/90 [==============================] - 40s - loss: 2.2900 - acc: 0.1222 - val_loss: 2.2650 - val_acc: 0.3000\n",
      "Epoch 10/10\n",
      "90/90 [==============================] - 40s - loss: 2.2835 - acc: 0.1444 - val_loss: 2.2667 - val_acc: 0.1000\n"
     ]
    },
    {
     "data": {
      "text/plain": [
       "<keras.callbacks.History at 0x7f37e4e7a400>"
      ]
     },
     "execution_count": 33,
     "metadata": {},
     "output_type": "execute_result"
    }
   ],
   "source": [
    "# Running the model (Perform training), batch可以小一點, 交叉驗證的比例是10%\n",
    "model.fit(x_train, y_train, batch_size=2, verbose=1, validation_split=0.1, epochs=10)"
   ]
  },
  {
   "cell_type": "code",
   "execution_count": 36,
   "metadata": {},
   "outputs": [],
   "source": [
    "# add initlizer for layer weights\n",
    "from keras import initializers\n",
    "weight_init = initializers.TruncatedNormal(mean=0.0, stddev=0.05, seed=None)"
   ]
  },
  {
   "cell_type": "code",
   "execution_count": 38,
   "metadata": {},
   "outputs": [],
   "source": [
    "# define input\n",
    "input_video = Input(shape=(224,224,16,3)) # input 16 frames, each frame has 3 channels\n",
    "\n",
    "# 1st layer convolutional layer\n",
    "x = Conv3D(filters=64, kernel_size=(3,3,3), padding='same', activation='relu', \n",
    "           kernel_initializer=weight_init, bias_initializer='zeros')(input_video)\n",
    "# pooling\n",
    "x = MaxPool3D(pool_size=(2,2,1))(x) # at the first pooling , temporal dimension no compressed\n",
    "# 2nd layer convolutional layer\n",
    "x = Conv3D(filters=128, kernel_size=(3,3,3), padding='same', activation='relu', \n",
    "          kernel_initializer=weight_init, bias_initializer='zeros')(x)\n",
    "# pooling\n",
    "x = MaxPool3D(pool_size=(2,2,2))(x) # start from 2nd pooling , temporal dimension compressed\n",
    "\n",
    "# 3rd layer convolutional layer (use double conv, to obtain stronger non-linear capability)\n",
    "x = Conv3D(filters=256, kernel_size=(3,3,3), padding='same', activation='relu', \n",
    "          kernel_initializer=weight_init, bias_initializer='zeros')(x)\n",
    "x = Conv3D(filters=256, kernel_size=(3,3,3), padding='same', activation='relu',\n",
    "          kernel_initializer=weight_init, bias_initializer='zeros')(x)\n",
    "# pooling\n",
    "x = MaxPool3D(pool_size=(2,2,2))(x) # temporal dimension compressed\n",
    "\n",
    "# 4th layer convolutional layer (use double conv, to obtain stronger non-linear capability)\n",
    "x = Conv3D(filters=512, kernel_size=(3,3,3), padding='same', activation='relu',\n",
    "          kernel_initializer=weight_init, bias_initializer='zeros')(x)\n",
    "x = Conv3D(filters=512, kernel_size=(3,3,3), padding='same', activation='relu',\n",
    "          kernel_initializer=weight_init, bias_initializer='zeros')(x)\n",
    "# pooling\n",
    "x = MaxPool3D(pool_size=(2,2,2))(x) # temporal dimension compressed\n",
    "\n",
    "# 5th layer convolutional layer (use double conv, to obtain stronger non-linear capability)\n",
    "x = Conv3D(filters=512, kernel_size=(3,3,3), padding='same', activation='relu',\n",
    "          kernel_initializer=weight_init, bias_initializer='zeros')(x)\n",
    "x = Conv3D(filters=512, kernel_size=(3,3,3), padding='same', activation='relu',\n",
    "          kernel_initializer=weight_init, bias_initializer='zeros')(x)\n",
    "# pooling\n",
    "x = MaxPool3D(pool_size=(2,2,2))(x) # temporal dimension compressed\n",
    "\n",
    "# flatten to be one-dim vector\n",
    "x = Flatten()(x)\n",
    "\n",
    "# fully-connected layer fc6\n",
    "x = Dense(units=4096, activation='relu',\n",
    "         kernel_initializer=weight_init, bias_initializer='zeros')(x)\n",
    "# dropout\n",
    "x = Dropout(0.5)(x)\n",
    "# fully-connected layer fc7\n",
    "x = Dense(units=4096, activation='relu',\n",
    "         kernel_initializer=weight_init, bias_initializer='zeros')(x)\n",
    "# dropout\n",
    "x = Dropout(0.5)(x)\n",
    "# build a softmax (prob.), use y as output\n",
    "y = Dense(10, activation='softmax')(x)\n",
    "# FINISH the layers definition\n",
    "\n",
    "# Define model (connect input & output)\n",
    "model = Model(input_video, y)"
   ]
  },
  {
   "cell_type": "code",
   "execution_count": 39,
   "metadata": {},
   "outputs": [],
   "source": [
    "# Before runing the model, we have to compile it.\n",
    "model.compile(optimizer='sgd', loss='categorical_crossentropy', metrics=['accuracy'])"
   ]
  },
  {
   "cell_type": "code",
   "execution_count": 41,
   "metadata": {},
   "outputs": [
    {
     "name": "stdout",
     "output_type": "stream",
     "text": [
      "Train on 90 samples, validate on 10 samples\n",
      "Epoch 1/10\n",
      "90/90 [==============================] - 57s - loss: 14.8645 - acc: 0.0778 - val_loss: 12.8945 - val_acc: 0.2000\n",
      "Epoch 2/10\n",
      "90/90 [==============================] - 55s - loss: 15.0436 - acc: 0.0667 - val_loss: 12.8945 - val_acc: 0.2000\n",
      "Epoch 3/10\n",
      "90/90 [==============================] - 55s - loss: 14.5063 - acc: 0.1000 - val_loss: 12.8945 - val_acc: 0.2000\n",
      "Epoch 4/10\n",
      "90/90 [==============================] - 55s - loss: 14.1481 - acc: 0.1222 - val_loss: 12.8945 - val_acc: 0.2000\n",
      "Epoch 5/10\n",
      "90/90 [==============================] - 55s - loss: 15.1597 - acc: 0.0556 - val_loss: 12.8945 - val_acc: 0.2000\n",
      "Epoch 6/10\n",
      "90/90 [==============================] - 55s - loss: 14.6854 - acc: 0.0889 - val_loss: 12.8945 - val_acc: 0.2000\n",
      "Epoch 7/10\n",
      "90/90 [==============================] - 55s - loss: 14.6854 - acc: 0.0889 - val_loss: 12.8945 - val_acc: 0.2000\n",
      "Epoch 8/10\n",
      "90/90 [==============================] - 55s - loss: 14.6854 - acc: 0.0889 - val_loss: 12.8945 - val_acc: 0.2000\n",
      "Epoch 9/10\n",
      "90/90 [==============================] - 55s - loss: 14.6854 - acc: 0.0889 - val_loss: 12.8945 - val_acc: 0.2000\n",
      "Epoch 10/10\n",
      "90/90 [==============================] - 55s - loss: 14.6854 - acc: 0.0889 - val_loss: 12.8945 - val_acc: 0.2000\n"
     ]
    },
    {
     "data": {
      "text/plain": [
       "<keras.callbacks.History at 0x7f37ddab7128>"
      ]
     },
     "execution_count": 41,
     "metadata": {},
     "output_type": "execute_result"
    }
   ],
   "source": [
    "# Running the model (Perform training), batch可以小一點, 交叉驗證的比例是10%\n",
    "model.fit(x_train, y_train, batch_size=1, verbose=1, validation_split=0.1, epochs=10)"
   ]
  },
  {
   "cell_type": "code",
   "execution_count": null,
   "metadata": {},
   "outputs": [],
   "source": []
  }
 ],
 "metadata": {
  "kernelspec": {
   "display_name": "Python 3",
   "language": "python",
   "name": "python3"
  },
  "language_info": {
   "codemirror_mode": {
    "name": "ipython",
    "version": 3
   },
   "file_extension": ".py",
   "mimetype": "text/x-python",
   "name": "python",
   "nbconvert_exporter": "python",
   "pygments_lexer": "ipython3",
   "version": "3.6.3"
  }
 },
 "nbformat": 4,
 "nbformat_minor": 2
}
