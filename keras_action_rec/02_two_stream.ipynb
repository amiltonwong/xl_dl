{
 "cells": [
  {
   "cell_type": "code",
   "execution_count": 1,
   "metadata": {},
   "outputs": [
    {
     "name": "stderr",
     "output_type": "stream",
     "text": [
      "/root/anaconda3/envs/tf1.2_gpu/lib/python3.6/site-packages/h5py/__init__.py:36: FutureWarning: Conversion of the second argument of issubdtype from `float` to `np.floating` is deprecated. In future, it will be treated as `np.float64 == np.dtype(float).type`.\n",
      "  from ._conv import register_converters as _register_converters\n",
      "Using TensorFlow backend.\n"
     ]
    }
   ],
   "source": [
    "import os\n",
    "# specify which GPU to use\n",
    "# And also limit which GPU consumes memory (especially for tensorflow use)\n",
    "os.environ['CUDA_VISIBLE_DEVICES']='0'\n",
    "os.system('echo $CUDA_VISIBLE_DEVICES')\n",
    "\n",
    "import tensorflow as tf\n",
    "from keras.backend.tensorflow_backend import set_session\n",
    "\n",
    "config = tf.ConfigProto()\n",
    "# set tensorflow not consume all memory, dynamically allocate memory \n",
    "config.gpu_options.allow_growth = True\n",
    "set_session(tf.Session(config=config))"
   ]
  },
  {
   "cell_type": "code",
   "execution_count": 2,
   "metadata": {},
   "outputs": [],
   "source": [
    "from keras.models import Model\n",
    "from keras.layers import Convolution2D, MaxPooling2D, Flatten, Dropout, Input, merge, Dense"
   ]
  },
  {
   "cell_type": "markdown",
   "metadata": {},
   "source": [
    "<img src=\"./two_stream.jpg\">"
   ]
  },
  {
   "cell_type": "code",
   "execution_count": 11,
   "metadata": {},
   "outputs": [],
   "source": [
    "# spatial stream\n",
    "spatial_input = Input((224,224,3))\n",
    "# conv1\n",
    "x = Convolution2D(filters=96,kernel_size=(7,7), activation='relu', \n",
    "                  padding='same', name='spatial_conv1')(spatial_input)\n",
    "x = MaxPooling2D(pool_size=(2,2))(x)\n",
    "# conv2\n",
    "x = Convolution2D(filters=256,kernel_size=(5,5), activation='relu', \n",
    "                  padding='same', name='spatial_conv2')(x)\n",
    "x = MaxPooling2D(pool_size=(2,2))(x)\n",
    "# conv3\n",
    "x = Convolution2D(filters=512,kernel_size=(3,3), activation='relu', \n",
    "                  padding='same', name='spatial_conv3')(x)\n",
    "# conv4\n",
    "x = Convolution2D(filters=512,kernel_size=(3,3), activation='relu', \n",
    "                  padding='same', name='spatial_conv4')(x)\n",
    "# conv5\n",
    "x = Convolution2D(filters=512,kernel_size=(3,3), activation='relu', \n",
    "                  padding='same', name='spatial_conv5')(x)\n",
    "x = MaxPooling2D(pool_size=(2,2))(x)\n",
    "\n",
    "# Flatten\n",
    "x = Flatten()(x)\n",
    "# FC6\n",
    "x = Dense(4096, activation='relu', name='spatial_full6')(x)\n",
    "x = Dropout(0.9)(x) # 90% of the units will be dropped out.\n",
    "# FC7\n",
    "x = Dense(2048, activation='relu', name='spatial_full7')(x)\n",
    "x = Dropout(0.7)(x)\n",
    "# final layer\n",
    "y = Dense(10, activation='softmax')(x)"
   ]
  },
  {
   "cell_type": "code",
   "execution_count": 12,
   "metadata": {},
   "outputs": [],
   "source": [
    "# construct a model\n",
    "spatial_model = Model(spatial_input, y)"
   ]
  },
  {
   "cell_type": "code",
   "execution_count": 13,
   "metadata": {},
   "outputs": [
    {
     "name": "stdout",
     "output_type": "stream",
     "text": [
      "_________________________________________________________________\n",
      "Layer (type)                 Output Shape              Param #   \n",
      "=================================================================\n",
      "input_4 (InputLayer)         (None, 224, 224, 3)       0         \n",
      "_________________________________________________________________\n",
      "spatial_conv1 (Conv2D)       (None, 224, 224, 96)      14208     \n",
      "_________________________________________________________________\n",
      "max_pooling2d_4 (MaxPooling2 (None, 112, 112, 96)      0         \n",
      "_________________________________________________________________\n",
      "spatial_conv2 (Conv2D)       (None, 112, 112, 256)     614656    \n",
      "_________________________________________________________________\n",
      "max_pooling2d_5 (MaxPooling2 (None, 56, 56, 256)       0         \n",
      "_________________________________________________________________\n",
      "spatial_conv3 (Conv2D)       (None, 56, 56, 512)       1180160   \n",
      "_________________________________________________________________\n",
      "spatial_conv4 (Conv2D)       (None, 56, 56, 512)       2359808   \n",
      "_________________________________________________________________\n",
      "spatial_conv5 (Conv2D)       (None, 56, 56, 512)       2359808   \n",
      "_________________________________________________________________\n",
      "max_pooling2d_6 (MaxPooling2 (None, 28, 28, 512)       0         \n",
      "_________________________________________________________________\n",
      "flatten_2 (Flatten)          (None, 401408)            0         \n",
      "_________________________________________________________________\n",
      "spatial_full6 (Dense)        (None, 4096)              1644171264\n",
      "_________________________________________________________________\n",
      "dropout_1 (Dropout)          (None, 4096)              0         \n",
      "_________________________________________________________________\n",
      "spatial_full7 (Dense)        (None, 2048)              8390656   \n",
      "_________________________________________________________________\n",
      "dropout_2 (Dropout)          (None, 2048)              0         \n",
      "_________________________________________________________________\n",
      "dense_1 (Dense)              (None, 10)                20490     \n",
      "=================================================================\n",
      "Total params: 1,659,111,050\n",
      "Trainable params: 1,659,111,050\n",
      "Non-trainable params: 0\n",
      "_________________________________________________________________\n"
     ]
    }
   ],
   "source": [
    "spatial_model.summary()"
   ]
  },
  {
   "cell_type": "code",
   "execution_count": 14,
   "metadata": {},
   "outputs": [],
   "source": [
    "# temporal stream\n",
    "# select 10 frames for optical flow, for each frame, there are two channels: u & v\n",
    "temporal_input = Input((224,224,20)) # input is optical flow\n",
    "# conv1\n",
    "x = Convolution2D(filters=96,kernel_size=(7,7), activation='relu', \n",
    "                  padding='same', name='temporal_conv1')(temporal_input)\n",
    "x = MaxPooling2D(pool_size=(2,2))(x)\n",
    "# conv2\n",
    "x = Convolution2D(filters=256,kernel_size=(5,5), activation='relu', \n",
    "                  padding='same', name='temporal_conv2')(x)\n",
    "x = MaxPooling2D(pool_size=(2,2))(x)\n",
    "# conv3\n",
    "x = Convolution2D(filters=512,kernel_size=(3,3), activation='relu', \n",
    "                  padding='same', name='temporal_conv3')(x)\n",
    "# conv4\n",
    "x = Convolution2D(filters=512,kernel_size=(3,3), activation='relu', \n",
    "                  padding='same', name='temporal_conv4')(x)\n",
    "# conv5\n",
    "x = Convolution2D(filters=512,kernel_size=(3,3), activation='relu', \n",
    "                  padding='same', name='temporal_conv5')(x)\n",
    "x = MaxPooling2D(pool_size=(2,2))(x)\n",
    "\n",
    "# Flatten\n",
    "x = Flatten()(x)\n",
    "# FC6\n",
    "x = Dense(4096, activation='relu', name='temporal_full6')(x)\n",
    "x = Dropout(0.9)(x) # 90% of the units will be dropped out.\n",
    "# FC7\n",
    "x = Dense(2048, activation='relu', name='temporal_full7')(x)\n",
    "x = Dropout(0.7)(x)\n",
    "# final layer\n",
    "y = Dense(10, activation='softmax')(x)"
   ]
  },
  {
   "cell_type": "code",
   "execution_count": 15,
   "metadata": {},
   "outputs": [],
   "source": [
    "# construct a model\n",
    "temporal_model = Model(temporal_input, y)"
   ]
  },
  {
   "cell_type": "code",
   "execution_count": 16,
   "metadata": {},
   "outputs": [
    {
     "name": "stdout",
     "output_type": "stream",
     "text": [
      "_________________________________________________________________\n",
      "Layer (type)                 Output Shape              Param #   \n",
      "=================================================================\n",
      "input_5 (InputLayer)         (None, 224, 224, 20)      0         \n",
      "_________________________________________________________________\n",
      "temporal_conv1 (Conv2D)      (None, 224, 224, 96)      94176     \n",
      "_________________________________________________________________\n",
      "max_pooling2d_7 (MaxPooling2 (None, 112, 112, 96)      0         \n",
      "_________________________________________________________________\n",
      "temporal_conv2 (Conv2D)      (None, 112, 112, 256)     614656    \n",
      "_________________________________________________________________\n",
      "max_pooling2d_8 (MaxPooling2 (None, 56, 56, 256)       0         \n",
      "_________________________________________________________________\n",
      "temporal_conv3 (Conv2D)      (None, 56, 56, 512)       1180160   \n",
      "_________________________________________________________________\n",
      "temporal_conv4 (Conv2D)      (None, 56, 56, 512)       2359808   \n",
      "_________________________________________________________________\n",
      "temporal_conv5 (Conv2D)      (None, 56, 56, 512)       2359808   \n",
      "_________________________________________________________________\n",
      "max_pooling2d_9 (MaxPooling2 (None, 28, 28, 512)       0         \n",
      "_________________________________________________________________\n",
      "flatten_3 (Flatten)          (None, 401408)            0         \n",
      "_________________________________________________________________\n",
      "temporal_full6 (Dense)       (None, 4096)              1644171264\n",
      "_________________________________________________________________\n",
      "dropout_3 (Dropout)          (None, 4096)              0         \n",
      "_________________________________________________________________\n",
      "temporal_full7 (Dense)       (None, 2048)              8390656   \n",
      "_________________________________________________________________\n",
      "dropout_4 (Dropout)          (None, 2048)              0         \n",
      "_________________________________________________________________\n",
      "dense_2 (Dense)              (None, 10)                20490     \n",
      "=================================================================\n",
      "Total params: 1,659,191,018\n",
      "Trainable params: 1,659,191,018\n",
      "Non-trainable params: 0\n",
      "_________________________________________________________________\n"
     ]
    }
   ],
   "source": [
    "temporal_model.summary()"
   ]
  },
  {
   "cell_type": "code",
   "execution_count": 3,
   "metadata": {},
   "outputs": [
    {
     "name": "stderr",
     "output_type": "stream",
     "text": [
      "/root/anaconda3/envs/tf1.2_gpu/lib/python3.6/site-packages/ipykernel_launcher.py:40: UserWarning: The `merge` function is deprecated and will be removed after 08/2017. Use instead layers from `keras.layers.merge`, e.g. `add`, `concatenate`, etc.\n",
      "/root/anaconda3/envs/tf1.2_gpu/lib/python3.6/site-packages/keras/legacy/layers.py:458: UserWarning: The `Merge` layer is deprecated and will be removed after 08/2017. Use instead layers from `keras.layers.merge`, e.g. `add`, `concatenate`, etc.\n",
      "  name=name)\n"
     ]
    }
   ],
   "source": [
    "# 1. Fusion at the decision layer (not powerful)\n",
    "# 2. Fusion at the middle layer\n",
    "\n",
    "# spatial stream\n",
    "spatial_input = Input((224,224,3))\n",
    "# conv1\n",
    "x = Convolution2D(filters=96,kernel_size=(7,7), activation='relu', \n",
    "                  padding='same', name='spatial_conv1')(spatial_input)\n",
    "x = MaxPooling2D(pool_size=(2,2))(x)\n",
    "# conv2\n",
    "x = Convolution2D(filters=256,kernel_size=(5,5), activation='relu', \n",
    "                  padding='same', name='spatial_conv2')(x)\n",
    "x = MaxPooling2D(pool_size=(2,2))(x)\n",
    "# conv3\n",
    "x = Convolution2D(filters=512,kernel_size=(3,3), activation='relu', \n",
    "                  padding='same', name='spatial_conv3')(x)\n",
    "# 把空域的分支引出來\n",
    "spatial_output = Convolution2D(filters=512,kernel_size=(3,3), activation='relu', \n",
    "                               padding='same', name='spatial_conv4')(x)\n",
    "\n",
    "# temporal stream\n",
    "# select 10 frames for optical flow, for each frame, there are two channels: u & v\n",
    "temporal_input = Input((224,224,20)) # input is optical flow\n",
    "# conv1\n",
    "x = Convolution2D(filters=96,kernel_size=(7,7), activation='relu', \n",
    "                  padding='same', name='temporal_conv1')(temporal_input)\n",
    "x = MaxPooling2D(pool_size=(2,2))(x)\n",
    "# conv2\n",
    "x = Convolution2D(filters=256,kernel_size=(5,5), activation='relu', \n",
    "                  padding='same', name='temporal_conv2')(x)\n",
    "x = MaxPooling2D(pool_size=(2,2))(x)\n",
    "# conv3\n",
    "x = Convolution2D(filters=512,kernel_size=(3,3), activation='relu', \n",
    "                  padding='same', name='temporal_conv3')(x)\n",
    "# 把時域的分支引出來\n",
    "temporal_output = Convolution2D(filters=512,kernel_size=(3,3), activation='relu', \n",
    "                                padding='same', name='temporal_conv4')(x)\n",
    "\n",
    "# use Merge layer (sum mode)for fusion\n",
    "fusion_output = merge([spatial_output, temporal_output], mode='sum')\n",
    "\n",
    "# conv5\n",
    "x = Convolution2D(filters=512,kernel_size=(3,3), activation='relu', \n",
    "                  padding='same', name='conv5')(fusion_output)\n",
    "x = MaxPooling2D(pool_size=(2,2))(x)\n",
    "# Flatten\n",
    "x = Flatten()(x)\n",
    "# FC6\n",
    "x = Dense(4096, activation='relu', name='full6')(x)\n",
    "x = Dropout(0.9)(x) # 90% of the units will be dropped out.\n",
    "# FC7\n",
    "x = Dense(2048, activation='relu', name='full7')(x)\n",
    "x = Dropout(0.7)(x)\n",
    "# final layer\n",
    "y = Dense(10, activation='softmax')(x)"
   ]
  },
  {
   "cell_type": "code",
   "execution_count": 4,
   "metadata": {},
   "outputs": [],
   "source": [
    "# construct the model\n",
    "model = Model([spatial_input, temporal_input], y)"
   ]
  },
  {
   "cell_type": "code",
   "execution_count": 5,
   "metadata": {},
   "outputs": [
    {
     "name": "stdout",
     "output_type": "stream",
     "text": [
      "____________________________________________________________________________________________________\n",
      "Layer (type)                     Output Shape          Param #     Connected to                     \n",
      "====================================================================================================\n",
      "input_1 (InputLayer)             (None, 224, 224, 3)   0                                            \n",
      "____________________________________________________________________________________________________\n",
      "input_2 (InputLayer)             (None, 224, 224, 20)  0                                            \n",
      "____________________________________________________________________________________________________\n",
      "spatial_conv1 (Conv2D)           (None, 224, 224, 96)  14208       input_1[0][0]                    \n",
      "____________________________________________________________________________________________________\n",
      "temporal_conv1 (Conv2D)          (None, 224, 224, 96)  94176       input_2[0][0]                    \n",
      "____________________________________________________________________________________________________\n",
      "max_pooling2d_1 (MaxPooling2D)   (None, 112, 112, 96)  0           spatial_conv1[0][0]              \n",
      "____________________________________________________________________________________________________\n",
      "max_pooling2d_3 (MaxPooling2D)   (None, 112, 112, 96)  0           temporal_conv1[0][0]             \n",
      "____________________________________________________________________________________________________\n",
      "spatial_conv2 (Conv2D)           (None, 112, 112, 256) 614656      max_pooling2d_1[0][0]            \n",
      "____________________________________________________________________________________________________\n",
      "temporal_conv2 (Conv2D)          (None, 112, 112, 256) 614656      max_pooling2d_3[0][0]            \n",
      "____________________________________________________________________________________________________\n",
      "max_pooling2d_2 (MaxPooling2D)   (None, 56, 56, 256)   0           spatial_conv2[0][0]              \n",
      "____________________________________________________________________________________________________\n",
      "max_pooling2d_4 (MaxPooling2D)   (None, 56, 56, 256)   0           temporal_conv2[0][0]             \n",
      "____________________________________________________________________________________________________\n",
      "spatial_conv3 (Conv2D)           (None, 56, 56, 512)   1180160     max_pooling2d_2[0][0]            \n",
      "____________________________________________________________________________________________________\n",
      "temporal_conv3 (Conv2D)          (None, 56, 56, 512)   1180160     max_pooling2d_4[0][0]            \n",
      "____________________________________________________________________________________________________\n",
      "spatial_conv4 (Conv2D)           (None, 56, 56, 512)   2359808     spatial_conv3[0][0]              \n",
      "____________________________________________________________________________________________________\n",
      "temporal_conv4 (Conv2D)          (None, 56, 56, 512)   2359808     temporal_conv3[0][0]             \n",
      "____________________________________________________________________________________________________\n",
      "merge_1 (Merge)                  (None, 56, 56, 512)   0           spatial_conv4[0][0]              \n",
      "                                                                   temporal_conv4[0][0]             \n",
      "____________________________________________________________________________________________________\n",
      "conv5 (Conv2D)                   (None, 56, 56, 512)   2359808     merge_1[0][0]                    \n",
      "____________________________________________________________________________________________________\n",
      "max_pooling2d_5 (MaxPooling2D)   (None, 28, 28, 512)   0           conv5[0][0]                      \n",
      "____________________________________________________________________________________________________\n",
      "flatten_1 (Flatten)              (None, 401408)        0           max_pooling2d_5[0][0]            \n",
      "____________________________________________________________________________________________________\n",
      "full6 (Dense)                    (None, 4096)          1644171264  flatten_1[0][0]                  \n",
      "____________________________________________________________________________________________________\n",
      "dropout_1 (Dropout)              (None, 4096)          0           full6[0][0]                      \n",
      "____________________________________________________________________________________________________\n",
      "full7 (Dense)                    (None, 2048)          8390656     dropout_1[0][0]                  \n",
      "____________________________________________________________________________________________________\n",
      "dropout_2 (Dropout)              (None, 2048)          0           full7[0][0]                      \n",
      "____________________________________________________________________________________________________\n",
      "dense_1 (Dense)                  (None, 10)            20490       dropout_2[0][0]                  \n",
      "====================================================================================================\n",
      "Total params: 1,663,359,850\n",
      "Trainable params: 1,663,359,850\n",
      "Non-trainable params: 0\n",
      "____________________________________________________________________________________________________\n"
     ]
    }
   ],
   "source": [
    "model.summary()"
   ]
  },
  {
   "cell_type": "code",
   "execution_count": 25,
   "metadata": {},
   "outputs": [
    {
     "name": "stdout",
     "output_type": "stream",
     "text": [
      "Collecting graphviz\n",
      "  Using cached https://files.pythonhosted.org/packages/84/44/21a7fdd50841aaaef224b943f7d10df87e476e181bb926ccf859bcb53d48/graphviz-0.8.3-py2.py3-none-any.whl\n",
      "Installing collected packages: graphviz\n",
      "Successfully installed graphviz-0.8.3\n",
      "\u001b[33mYou are using pip version 9.0.1, however version 10.0.1 is available.\n",
      "You should consider upgrading via the 'pip install --upgrade pip' command.\u001b[0m\n"
     ]
    }
   ],
   "source": [
    "!pip install graphviz"
   ]
  },
  {
   "cell_type": "code",
   "execution_count": 6,
   "metadata": {},
   "outputs": [],
   "source": [
    "from keras.utils import plot_model"
   ]
  },
  {
   "cell_type": "code",
   "execution_count": 7,
   "metadata": {},
   "outputs": [],
   "source": [
    "# Draw the network structures\n",
    "from keras.utils import plot_model\n",
    "plot_model(model, to_file='./two_stream_model.png', show_shapes=True, show_layer_names=True)"
   ]
  },
  {
   "cell_type": "code",
   "execution_count": null,
   "metadata": {},
   "outputs": [],
   "source": [
    "# 3. Fusion with residual"
   ]
  },
  {
   "cell_type": "code",
   "execution_count": 8,
   "metadata": {},
   "outputs": [],
   "source": [
    "# import resnet50 model\n",
    "from keras.applications.resnet50 import conv_block, identity_block"
   ]
  },
  {
   "cell_type": "code",
   "execution_count": null,
   "metadata": {},
   "outputs": [],
   "source": []
  }
 ],
 "metadata": {
  "kernelspec": {
   "display_name": "Python 3",
   "language": "python",
   "name": "python3"
  },
  "language_info": {
   "codemirror_mode": {
    "name": "ipython",
    "version": 3
   },
   "file_extension": ".py",
   "mimetype": "text/x-python",
   "name": "python",
   "nbconvert_exporter": "python",
   "pygments_lexer": "ipython3",
   "version": "3.6.3"
  }
 },
 "nbformat": 4,
 "nbformat_minor": 2
}
